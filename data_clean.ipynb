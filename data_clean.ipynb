{
 "cells": [
  {
   "cell_type": "code",
   "execution_count": 1,
   "id": "86371c3d",
   "metadata": {},
   "outputs": [],
   "source": [
    "import pandas as pd"
   ]
  },
  {
   "cell_type": "code",
   "execution_count": 2,
   "id": "94e1d7ed",
   "metadata": {},
   "outputs": [],
   "source": [
    "df = pd.read_csv(\"./games.csv\", sep=\",\", encoding=\"utf-8\")"
   ]
  },
  {
   "cell_type": "code",
   "execution_count": 12,
   "id": "710e8754",
   "metadata": {},
   "outputs": [
    {
     "name": "stdout",
     "output_type": "stream",
     "text": [
      "Parsed with ',' separator and converted to './games2.csv'.\n",
      "Loaded data into df (detected separator semantics).\n"
     ]
    }
   ],
   "source": [
    "# Réessayer de charger le fichier avec ';' et, si besoin, convertir le fichier en remplaçant les ',' par ';'\n",
    "# Certains fichiers peuvent contenir des lignes malformées : on gère les ParserError et on propose des alternatives.\n",
    "try:\n",
    "    df_try = pd.read_csv(\"./games.csv\", sep=';', encoding='utf-8')\n",
    "except pd.errors.ParserError:\n",
    "    # Premier fallback : essayer la virgule comme séparateur\n",
    "    try:\n",
    "        df_try = pd.read_csv(\"./games.csv\", sep=',', encoding='utf-8')\n",
    "        df_try.to_csv(\"./games2.csv\", index=False, sep=';', encoding='utf-8')\n",
    "        print(\"Parsed with ',' separator and converted to './games2.csv'.\")\n",
    "    except pd.errors.ParserError:\n",
    "        # Deuxième fallback : utiliser l'engine 'python' et sauter les lignes malformées\n",
    "        try:\n",
    "            df_try = pd.read_csv(\"./games.csv\", sep=';', encoding='utf-8', engine='python', on_bad_lines='skip')\n",
    "            print(\"Parsed with engine='python' and skipped malformed lines.\")\n",
    "        except Exception as e:\n",
    "            # Si tout échoue, remonter l'erreur pour debug\n",
    "            print(\"Failed to parse './games.csv' with multiple strategies:\", e)\n",
    "            raise\n",
    "# Si le fichier semble être un CSV à une seule colonne (mauvais séparateur détecté), retenter avec la virgule\n",
    "if df_try.shape[1] == 1:\n",
    "    df = pd.read_csv(\"./games.csv\", sep=',', encoding='utf-8')\n",
    "    df.to_csv(\"./games2.csv\", index=False, sep=';', encoding='utf-8')\n",
    "    print(\"Converted './games.csv' from comma to semicolon separators.\")\n",
    "else:\n",
    "    df = df_try\n",
    "    print(\"Loaded data into df (detected separator semantics).\")"
   ]
  },
  {
   "cell_type": "code",
   "execution_count": 13,
   "id": "15da34ad",
   "metadata": {},
   "outputs": [
    {
     "name": "stdout",
     "output_type": "stream",
     "text": [
      "Parsed with ',' separator and converted to './game_sales_data2.csv'.\n",
      "Loaded data into df_game_sales (detected separator semantics).\n"
     ]
    }
   ],
   "source": [
    "# Chargement robuste de \"./game_sales_data.csv\" (même logique que pour \"./games.csv\")\n",
    "try:\n",
    "    df_sales_try = pd.read_csv(\"./game_sales_data.csv\", sep=';', encoding='utf-8')\n",
    "except pd.errors.ParserError:\n",
    "    # Premier fallback : essayer la virgule comme séparateur\n",
    "    try:\n",
    "        df_sales_try = pd.read_csv(\"./game_sales_data.csv\", sep=',', encoding='utf-8')\n",
    "        df_sales_try.to_csv(\"./game_sales_data2.csv\", index=False, sep=';', encoding='utf-8')\n",
    "        print(\"Parsed with ',' separator and converted to './game_sales_data2.csv'.\")\n",
    "    except pd.errors.ParserError:\n",
    "        # Deuxième fallback : utiliser l'engine 'python' et sauter les lignes malformées\n",
    "        try:\n",
    "            df_sales_try = pd.read_csv(\"./game_sales_data.csv\", sep=';', encoding='utf-8', engine='python', on_bad_lines='skip')\n",
    "            print(\"Parsed with engine='python' and skipped malformed lines.\")\n",
    "        except Exception as e:\n",
    "            print(\"Failed to parse './game_sales_data.csv' with multiple strategies:\", e)\n",
    "            raise\n",
    "\n",
    "# Si le fichier semble être un CSV à une seule colonne (mauvais séparateur détecté), retenter avec la virgule\n",
    "if df_sales_try.shape[1] == 1:\n",
    "    df_game_sales = pd.read_csv(\"./game_sales_data.csv\", sep=',', encoding='utf-8')\n",
    "    df_game_sales.to_csv(\"./game_sales_data2.csv\", index=False, sep=';', encoding='utf-8')\n",
    "    print(\"Converted './game_sales_data.csv' from comma to semicolon separators.\")\n",
    "else:\n",
    "    df_game_sales = df_sales_try\n",
    "    print(\"Loaded data into df_game_sales (detected separator semantics).\")"
   ]
  },
  {
   "cell_type": "code",
   "execution_count": 48,
   "id": "7016d7f3",
   "metadata": {},
   "outputs": [
    {
     "name": "stdout",
     "output_type": "stream",
     "text": [
      "Index(['Identifiant de mutation (Etalab)', 'Date de la mutation',\n",
      "       'Numéro de disposition', 'Nature de la mutation', 'Valeur foncière',\n",
      "       'Numéro de voie', 'Suffixe du numéro (bis/ter)', 'Nom de la voie',\n",
      "       'Code Fantoir/Rivoli de la voie', 'Code postal',\n",
      "       'Code INSEE de la commune', 'Nom de la commune',\n",
      "       'Code INSEE du département', 'Ancien code de la commune',\n",
      "       'Ancien nom de la commune', 'Identifiant de la parcelle cadastrale',\n",
      "       'Ancien identifiant de la parcelle cadastrale', 'Numéro du volume',\n",
      "       'Numéro du lot 1', 'Surface Carrez du lot 1', 'Numéro du lot 2',\n",
      "       'Surface Carrez du lot 2', 'Numéro du lot 3', 'Surface Carrez du lot 3',\n",
      "       'Numéro du lot 4', 'Surface Carrez du lot 4', 'Numéro du lot 5',\n",
      "       'Surface Carrez du lot 5', 'Nombre de lots', 'Code du type de local',\n",
      "       'Type de local', 'Surface réelle du bâti',\n",
      "       'Nombre de pièces principales', 'Code de la nature de culture',\n",
      "       'Nature de culture', 'Code de la nature de culture spéciale',\n",
      "       'Nature de culture spéciale', 'Surface du terrain', 'Longitude',\n",
      "       'Latitude', 'Code Officiel EPCI', 'Nom Officiel EPCI',\n",
      "       'Nom du département', 'Code INSEE de la région', 'Nom de la région',\n",
      "       'Géolocalisation'],\n",
      "      dtype='object')\n"
     ]
    }
   ],
   "source": [
    "print(df.columns)"
   ]
  },
  {
   "cell_type": "code",
   "execution_count": 49,
   "id": "f43e2d88",
   "metadata": {},
   "outputs": [],
   "source": [
    "df = df.dropna(subset=[\"Valeur foncière\", \"Longitude\", \"Latitude\", \"Code postal\", 'Type de local'])"
   ]
  },
  {
   "cell_type": "code",
   "execution_count": 50,
   "id": "10e12801",
   "metadata": {},
   "outputs": [],
   "source": [
    "df_bordeaux = df[df[\"Nature de la mutation\"] == \"Vente\"]"
   ]
  },
  {
   "cell_type": "code",
   "execution_count": 51,
   "id": "ed0e6d55",
   "metadata": {},
   "outputs": [],
   "source": [
    "df_bordeaux = df[df[\"Nom de la commune\"] == \"Bordeaux\"]\n",
    "# print(df_bordeaux)"
   ]
  },
  {
   "cell_type": "code",
   "execution_count": 52,
   "id": "227adb31",
   "metadata": {},
   "outputs": [],
   "source": [
    "colonnes_a_garder = ['Date de la mutation', 'Valeur foncière', 'Numéro de voie', 'Suffixe du numéro (bis/ter)', 'Nom de la voie', 'Code postal', 'Nombre de lots', 'Code du type de local',\n",
    "       'Type de local', 'Surface réelle du bâti', 'Nombre de pièces principales', 'Surface du terrain', 'Longitude', 'Latitude', ]\n",
    "df_bordeaux = df_bordeaux[colonnes_a_garder]"
   ]
  },
  {
   "cell_type": "code",
   "execution_count": 53,
   "id": "7b49be7d",
   "metadata": {},
   "outputs": [],
   "source": [
    "df_bordeaux.to_csv('./db/Bordeaux.csv', index=False, sep=';')"
   ]
  },
  {
   "cell_type": "code",
   "execution_count": 54,
   "id": "c2290a03",
   "metadata": {},
   "outputs": [
    {
     "name": "stderr",
     "output_type": "stream",
     "text": [
      "C:\\Users\\Ethan\\AppData\\Local\\Temp\\ipykernel_32116\\3352732039.py:1: DtypeWarning: Columns (8,10,18,19,20,39,41,60,63) have mixed types. Specify dtype option on import or set low_memory=False.\n",
      "  df_etabl = pd.read_csv(\"./db/fr-en-annuaire-education.csv\", sep=\";\", encoding=\"utf-8\")\n"
     ]
    }
   ],
   "source": [
    "df_etabl = pd.read_csv(\"./db/fr-en-annuaire-education.csv\", sep=\";\", encoding=\"utf-8\")\n",
    "\n",
    "df_etabl_bordeaux = df_etabl[df_etabl['Nom_commune'] == \"Bordeaux\"]\n",
    "df_etabl_bordeaux.to_csv('./db/educ_bordeaux.csv', index=False, sep=';')"
   ]
  },
  {
   "cell_type": "code",
   "execution_count": 55,
   "id": "1e5ff763",
   "metadata": {},
   "outputs": [
    {
     "name": "stdout",
     "output_type": "stream",
     "text": [
      "Index(['Identifiant_de_l_etablissement', 'Nom_etablissement',\n",
      "       'Type_etablissement', 'Statut_public_prive', 'Adresse_1', 'Adresse_2',\n",
      "       'Adresse_3', 'Code_postal', 'Code_commune', 'Nom_commune',\n",
      "       'Code_departement', 'Code_academie', 'Code_region', 'Ecole_maternelle',\n",
      "       'Ecole_elementaire', 'Voie_generale', 'Voie_technologique',\n",
      "       'Voie_professionnelle', 'Telephone', 'Fax', 'Web', 'Mail',\n",
      "       'Restauration', 'Hebergement', 'ULIS', 'Apprentissage', 'Segpa',\n",
      "       'Section_arts', 'Section_cinema', 'Section_theatre', 'Section_sport',\n",
      "       'Section_internationale', 'Section_europeenne', 'Lycee_Agricole',\n",
      "       'Lycee_militaire', 'Lycee_des_metiers', 'Post_BAC',\n",
      "       'Appartenance_Education_Prioritaire', 'GRETA', 'SIREN_SIRET',\n",
      "       'Nombre_d_eleves', 'Fiche_onisep', 'position', 'Type_contrat_prive',\n",
      "       'Libelle_departement', 'Libelle_academie', 'Libelle_region',\n",
      "       'coordX_origine', 'coordY_origine', 'epsg_origine',\n",
      "       'nom_circonscription', 'latitude', 'longitude',\n",
      "       'precision_localisation', 'date_ouverture', 'date_maj_ligne', 'etat',\n",
      "       'ministere_tutelle', 'multi_uai', 'rpi_concentre', 'rpi_disperse',\n",
      "       'code_nature', 'libelle_nature', 'Code_type_contrat_prive', 'PIAL',\n",
      "       'etablissement_mere', 'type_rattachement_etablissement_mere',\n",
      "       'code_circonscription', 'code_zone_animation_pedagogique',\n",
      "       'libelle_zone_animation_pedagogique', 'code_bassin_formation',\n",
      "       'libelle_bassin_formation'],\n",
      "      dtype='object')\n"
     ]
    }
   ],
   "source": [
    "df_etabl_bordeaux = pd.read_csv(\"./db/educ_bordeaux.csv\", sep=\";\", encoding=\"utf-8\")\n",
    "print(df_etabl_bordeaux.columns)"
   ]
  },
  {
   "cell_type": "code",
   "execution_count": 56,
   "id": "6859b2ea",
   "metadata": {},
   "outputs": [
    {
     "name": "stderr",
     "output_type": "stream",
     "text": [
      "C:\\Users\\Ethan\\AppData\\Local\\Temp\\ipykernel_32116\\589775896.py:1: DtypeWarning: Columns (5,12,19,22,27) have mixed types. Specify dtype option on import or set low_memory=False.\n",
      "  df_commerce = pd.read_csv(\"./db/fi_etabl_p.csv\", sep=\";\", encoding=\"utf-8\")\n"
     ]
    }
   ],
   "source": [
    "df_commerce = pd.read_csv(\"./db/fi_etabl_p.csv\", sep=\";\", encoding=\"utf-8\")\n",
    "\n",
    "df_commerce_bordeaux = df_commerce[df_commerce['nom'] == \"Bordeaux\"]\n",
    "df_commerce_bordeaux.to_csv('./db/entreprise_bordeaux.csv', index=False, sep=';')"
   ]
  },
  {
   "cell_type": "code",
   "execution_count": 57,
   "id": "62837c19",
   "metadata": {},
   "outputs": [],
   "source": [
    "# df_paris = df[df['code_departement'] == 75]\n",
    "# # print(df_paris)\n",
    "# df_paris.to_csv('Paris.csv', index=False)"
   ]
  },
  {
   "cell_type": "code",
   "execution_count": 58,
   "id": "db13818b",
   "metadata": {},
   "outputs": [],
   "source": [
    "# df_toulouse = df[df['code_departement'] == 31]\n",
    "# # print(df_toulouse)\n",
    "# df_toulouse.to_csv('Toulouse.csv', index=False)"
   ]
  },
  {
   "cell_type": "code",
   "execution_count": 59,
   "id": "d0f5a6bc",
   "metadata": {},
   "outputs": [],
   "source": [
    "# df_nantes = df[df['code_commune'] == 44109]\n",
    "# # print(df_nantes)\n",
    "# df_nantes.to_csv('Nantes.csv', index=False)"
   ]
  },
  {
   "cell_type": "code",
   "execution_count": 60,
   "id": "9fb52f65",
   "metadata": {},
   "outputs": [],
   "source": [
    "# df_angouleme = df[df['code_commune'] == 16015]\n",
    "# # print(df_angouleme)\n",
    "# df_angouleme.to_csv('Angouleme.csv', index=False)"
   ]
  }
 ],
 "metadata": {
  "kernelspec": {
   "display_name": "Python 3",
   "language": "python",
   "name": "python3"
  },
  "language_info": {
   "codemirror_mode": {
    "name": "ipython",
    "version": 3
   },
   "file_extension": ".py",
   "mimetype": "text/x-python",
   "name": "python",
   "nbconvert_exporter": "python",
   "pygments_lexer": "ipython3",
   "version": "3.13.5"
  }
 },
 "nbformat": 4,
 "nbformat_minor": 5
}
